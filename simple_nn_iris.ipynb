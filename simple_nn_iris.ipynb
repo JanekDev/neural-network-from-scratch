{
 "cells": [
  {
   "cell_type": "markdown",
   "metadata": {},
   "source": [
    "### Implementing simple neural network from scratch\n",
    "In this notebook I implemented a simple neural network without using advanced ML libraries.\n"
   ]
  },
  {
   "cell_type": "code",
   "execution_count": 1,
   "metadata": {},
   "outputs": [],
   "source": [
    "import pandas as pd\n",
    "import numpy as np\n",
    "import matplotlib.pyplot as plt\n",
    "from common import *\n",
    "import pickle"
   ]
  },
  {
   "cell_type": "code",
   "execution_count": 2,
   "metadata": {},
   "outputs": [],
   "source": [
    "class Layer:\n",
    "    def __init__(self):\n",
    "        self.input = None\n",
    "        self.output = None\n",
    "\n",
    "    def forward_pass(self, input):\n",
    "        raise NotImplementedError\n",
    "\n",
    "    def backpropagation(self, output_error, learning_rate):\n",
    "        raise NotImplementedError\n",
    "\n",
    "\n",
    "class FullyConnectedLayer(Layer):\n",
    "    def __init__(self, input_size, output_size, init_method=\"random\"):\n",
    "        if init_method == \"random\":\n",
    "            self.weights = np.random.rand(input_size, output_size) - 0.5\n",
    "            self.bias = np.random.rand(1, output_size) - 0.5\n",
    "        elif init_method == \"zeros\":\n",
    "            self.weights = np.zeros((input_size, output_size))\n",
    "            self.bias = np.zeros((1, output_size))\n",
    "        elif init_method == \"xavier\":\n",
    "            self.weights = np.random.randn(input_size, output_size) * np.sqrt(\n",
    "                2 / (input_size + output_size)\n",
    "            )\n",
    "            self.bias = np.random.randn(1, output_size) * np.sqrt(\n",
    "                2 / (input_size + output_size)\n",
    "            )\n",
    "        elif init_method == \"he\":\n",
    "            self.weights = np.random.randn(input_size, output_size) * np.sqrt(\n",
    "                2 / input_size\n",
    "            )\n",
    "            self.bias = np.random.randn(1, output_size) * np.sqrt(2 / input_size)\n",
    "\n",
    "    def forward_pass(self, input_data):\n",
    "        self.input = input_data\n",
    "        self.output = np.dot(self.input, self.weights) + self.bias\n",
    "        return self.output\n",
    "\n",
    "    def backpropagation(self, output_error, learning_rate):\n",
    "        input_error = np.dot(output_error, self.weights.T)\n",
    "        weights_error = np.dot(self.input.T, output_error)\n",
    "\n",
    "        self.weights -= learning_rate * weights_error\n",
    "        self.bias -= learning_rate * output_error\n",
    "        return input_error\n",
    "\n",
    "\n",
    "class ActivationComponent(Layer):\n",
    "    def __init__(self, activation, activation_prime):\n",
    "        self.activation = activation\n",
    "        self.activation_prime = activation_prime\n",
    "\n",
    "    def forward_pass(self, input_data):\n",
    "        self.input = input_data\n",
    "        self.output = self.activation(self.input)\n",
    "        return self.output\n",
    "\n",
    "    def backpropagation(self, output_error, learning_rate):\n",
    "        return self.activation_prime(self.input) * output_error\n",
    "\n",
    "\n",
    "class Network:\n",
    "    def __init__(self):\n",
    "        self.layers = []\n",
    "        self.loss = None\n",
    "        self.loss_prime = None\n",
    "        self.convergence = []\n",
    "\n",
    "    def save(self, filename):\n",
    "        with open(filename, \"wb\") as f:\n",
    "            pickle.dump(self, f)\n",
    "\n",
    "    def add(self, layer):\n",
    "        self.layers.append(layer)\n",
    "\n",
    "    def set_loss(self, loss, loss_prime):\n",
    "        self.loss = loss\n",
    "        self.loss_prime = loss_prime\n",
    "\n",
    "    def predict(self, input_data):\n",
    "        samples = len(input_data)\n",
    "        result = []\n",
    "        for i in range(samples):\n",
    "            output = input_data[i]\n",
    "            for layer in self.layers:\n",
    "                output = layer.forward_pass(output)\n",
    "            result.append(output)\n",
    "\n",
    "        return result\n",
    "\n",
    "    def fit(self, x_train, y_train, epochs, learning_rate, printc=False):\n",
    "        samples = len(x_train)\n",
    "        for i in range(epochs):\n",
    "            err = 0\n",
    "            for j in range(samples):\n",
    "                output = x_train[j]\n",
    "                for layer in self.layers:\n",
    "                    output = layer.forward_pass(output)\n",
    "                err += self.loss(y_train[j], output)\n",
    "\n",
    "                error = self.loss_prime(y_train[j], output)\n",
    "                for layer in reversed(self.layers):\n",
    "                    error = layer.backpropagation(error, learning_rate)\n",
    "\n",
    "            err /= samples\n",
    "            self.convergence.append(err)\n",
    "            if printc:\n",
    "                print(f\"Epoch: {i}, Error: {err}\")"
   ]
  },
  {
   "cell_type": "code",
   "execution_count": 3,
   "metadata": {},
   "outputs": [],
   "source": [
    "# load mnist data\n",
    "x_train, y_train = load_mnist(\"mnist\", kind=\"train\")\n",
    "x_test, y_test = load_mnist(\"mnist\", kind=\"t10k\")"
   ]
  },
  {
   "cell_type": "code",
   "execution_count": 4,
   "metadata": {},
   "outputs": [
    {
     "data": {
      "image/png": "[encoded data removed]",
      "text/plain": [
       "<Figure size 432x288 with 1 Axes>"
      ]
     },
     "metadata": {
      "needs_background": "light"
     },
     "output_type": "display_data"
    }
   ],
   "source": [
    "# display an image from the training set\n",
    "plt.imshow(x_train[0].reshape(28, 28), cmap=\"gray\")\n",
    "plt.show()"
   ]
  },
  {
   "cell_type": "code",
   "execution_count": 5,
   "metadata": {},
   "outputs": [
    {
     "name": "stderr",
     "output_type": "stream",
     "text": [
      "/home/michal/neural-network-from-scratch/common.py:4: RuntimeWarning: overflow encountered in exp\n",
      "  return 1 / (1 + np.exp(-x))\n"
     ]
    },
    {
     "name": "stdout",
     "output_type": "stream",
     "text": [
      "Epoch: 0, Error: 0.005329893531478389\n"
     ]
    },
    {
     "ename": "KeyboardInterrupt",
     "evalue": "",
     "output_type": "error",
     "traceback": [
      "\u001b[0;31m---------------------------------------------------------------------------\u001b[0m",
      "\u001b[0;31mKeyboardInterrupt\u001b[0m                         Traceback (most recent call last)",
      "\u001b[1;32m/home/michal/neural-network-from-scratch/simple_nn_iris.ipynb Cell 6\u001b[0m in \u001b[0;36m<cell line: 7>\u001b[0;34m()\u001b[0m\n\u001b[1;32m      <a href='vscode-notebook-cell:/home/michal/neural-network-from-scratch/simple_nn_iris.ipynb#ch0000008?line=4'>5</a>\u001b[0m mnist_net\u001b[39m.\u001b[39madd(ActivationComponent(sigmoid, sigmoid_prime))\n\u001b[1;32m      <a href='vscode-notebook-cell:/home/michal/neural-network-from-scratch/simple_nn_iris.ipynb#ch0000008?line=5'>6</a>\u001b[0m mnist_net\u001b[39m.\u001b[39mset_loss(cross_entropy, cross_entropy_prime)\n\u001b[0;32m----> <a href='vscode-notebook-cell:/home/michal/neural-network-from-scratch/simple_nn_iris.ipynb#ch0000008?line=6'>7</a>\u001b[0m mnist_net\u001b[39m.\u001b[39;49mfit(x_train, y_train, epochs\u001b[39m=\u001b[39;49m\u001b[39m10\u001b[39;49m, learning_rate\u001b[39m=\u001b[39;49m\u001b[39m0.01\u001b[39;49m, printc\u001b[39m=\u001b[39;49m\u001b[39mTrue\u001b[39;49;00m)\n",
      "\u001b[1;32m/home/michal/neural-network-from-scratch/simple_nn_iris.ipynb Cell 6\u001b[0m in \u001b[0;36mNetwork.fit\u001b[0;34m(self, x_train, y_train, epochs, learning_rate, printc)\u001b[0m\n\u001b[1;32m    <a href='vscode-notebook-cell:/home/michal/neural-network-from-scratch/simple_nn_iris.ipynb#ch0000008?line=100'>101</a>\u001b[0m     error \u001b[39m=\u001b[39m \u001b[39mself\u001b[39m\u001b[39m.\u001b[39mloss_prime(y_train[j], output)\n\u001b[1;32m    <a href='vscode-notebook-cell:/home/michal/neural-network-from-scratch/simple_nn_iris.ipynb#ch0000008?line=101'>102</a>\u001b[0m     \u001b[39mfor\u001b[39;00m layer \u001b[39min\u001b[39;00m \u001b[39mreversed\u001b[39m(\u001b[39mself\u001b[39m\u001b[39m.\u001b[39mlayers):\n\u001b[0;32m--> <a href='vscode-notebook-cell:/home/michal/neural-network-from-scratch/simple_nn_iris.ipynb#ch0000008?line=102'>103</a>\u001b[0m         error \u001b[39m=\u001b[39m layer\u001b[39m.\u001b[39;49mbackpropagation(error, learning_rate)\n\u001b[1;32m    <a href='vscode-notebook-cell:/home/michal/neural-network-from-scratch/simple_nn_iris.ipynb#ch0000008?line=104'>105</a>\u001b[0m err \u001b[39m/\u001b[39m\u001b[39m=\u001b[39m samples\n\u001b[1;32m    <a href='vscode-notebook-cell:/home/michal/neural-network-from-scratch/simple_nn_iris.ipynb#ch0000008?line=105'>106</a>\u001b[0m \u001b[39mself\u001b[39m\u001b[39m.\u001b[39mconvergence\u001b[39m.\u001b[39mappend(err)\n",
      "\u001b[1;32m/home/michal/neural-network-from-scratch/simple_nn_iris.ipynb Cell 6\u001b[0m in \u001b[0;36mFullyConnectedLayer.backpropagation\u001b[0;34m(self, output_error, learning_rate)\u001b[0m\n\u001b[1;32m     <a href='vscode-notebook-cell:/home/michal/neural-network-from-scratch/simple_nn_iris.ipynb#ch0000008?line=38'>39</a>\u001b[0m \u001b[39mdef\u001b[39;00m \u001b[39mbackpropagation\u001b[39m(\u001b[39mself\u001b[39m, output_error, learning_rate):\n\u001b[1;32m     <a href='vscode-notebook-cell:/home/michal/neural-network-from-scratch/simple_nn_iris.ipynb#ch0000008?line=39'>40</a>\u001b[0m     input_error \u001b[39m=\u001b[39m np\u001b[39m.\u001b[39mdot(output_error, \u001b[39mself\u001b[39m\u001b[39m.\u001b[39mweights\u001b[39m.\u001b[39mT)\n\u001b[0;32m---> <a href='vscode-notebook-cell:/home/michal/neural-network-from-scratch/simple_nn_iris.ipynb#ch0000008?line=40'>41</a>\u001b[0m     weights_error \u001b[39m=\u001b[39m np\u001b[39m.\u001b[39;49mdot(\u001b[39mself\u001b[39;49m\u001b[39m.\u001b[39;49minput\u001b[39m.\u001b[39;49mT, output_error)\n\u001b[1;32m     <a href='vscode-notebook-cell:/home/michal/neural-network-from-scratch/simple_nn_iris.ipynb#ch0000008?line=42'>43</a>\u001b[0m     \u001b[39mself\u001b[39m\u001b[39m.\u001b[39mweights \u001b[39m-\u001b[39m\u001b[39m=\u001b[39m learning_rate \u001b[39m*\u001b[39m weights_error\n\u001b[1;32m     <a href='vscode-notebook-cell:/home/michal/neural-network-from-scratch/simple_nn_iris.ipynb#ch0000008?line=43'>44</a>\u001b[0m     \u001b[39mself\u001b[39m\u001b[39m.\u001b[39mbias \u001b[39m-\u001b[39m\u001b[39m=\u001b[39m learning_rate \u001b[39m*\u001b[39m output_error\n",
      "File \u001b[0;32m<__array_function__ internals>:5\u001b[0m, in \u001b[0;36mdot\u001b[0;34m(*args, **kwargs)\u001b[0m\n",
      "\u001b[0;31mKeyboardInterrupt\u001b[0m: "
     ]
    }
   ],
   "source": [
    "mnist_net = Network()\n",
    "mnist_net.add(FullyConnectedLayer(784, 100, \"xavier\"))\n",
    "mnist_net.add(ActivationComponent(sigmoid, sigmoid_prime))\n",
    "mnist_net.add(FullyConnectedLayer(100, 10, \"xavier\"))\n",
    "mnist_net.add(ActivationComponent(sigmoid, sigmoid_prime))\n",
    "mnist_net.set_loss(cross_entropy, cross_entropy_prime)\n",
    "mnist_net.fit(x_train, y_train, epochs=10, learning_rate=0.01, printc=True)\n",
    "\n",
    "#save the model\n",
    "mnist_net.save(\"mnist_net.pkl\")"
   ]
  }
 ],
 "metadata": {
  "kernelspec": {
   "display_name": "Python 3.9.12 ('base')",
   "language": "python",
   "name": "python3"
  },
  "language_info": {
   "codemirror_mode": {
    "name": "ipython",
    "version": 3
   },
   "file_extension": ".py",
   "mimetype": "text/x-python",
   "name": "python",
   "nbconvert_exporter": "python",
   "pygments_lexer": "ipython3",
   "version": "3.9.12"
  },
  "orig_nbformat": 4,
  "vscode": {
   "interpreter": {
    "hash": "31dca9b9ee8cbd0c32cc854109fa72488c93dc0b9bf0becddd230d6e94c6411a"
   }
  }
 },
 "nbformat": 4,
 "nbformat_minor": 2
}
