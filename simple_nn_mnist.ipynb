{
 "cells": [
  {
   "cell_type": "markdown",
   "metadata": {},
   "source": [
    "### Implementing simple neural network from scratch\n",
    "In this notebook I implemented a simple neural network without using advanced ML libraries.\n"
   ]
  },
  {
   "cell_type": "code",
   "execution_count": 2,
   "metadata": {},
   "outputs": [],
   "source": [
    "import pandas as pd\n",
    "import numpy as np\n",
    "import matplotlib.pyplot as plt\n",
    "from common import *\n",
    "import pickle"
   ]
  },
  {
   "cell_type": "code",
   "execution_count": 3,
   "metadata": {},
   "outputs": [],
   "source": [
    "class Layer:\n",
    "    def __init__(self):\n",
    "        self.input = None\n",
    "        self.output = None\n",
    "\n",
    "    def forward_pass(self, input):\n",
    "        raise NotImplementedError\n",
    "\n",
    "    def backpropagation(self, output_error, learning_rate):\n",
    "        raise NotImplementedError\n",
    "\n",
    "\n",
    "class FullyConnectedLayer(Layer):\n",
    "    def __init__(self, input_size, output_size, init_method=\"random\"):\n",
    "        if init_method == \"random\":\n",
    "            self.weights = np.random.rand(input_size, output_size) - 0.5\n",
    "            self.bias = np.random.rand(1, output_size) - 0.5\n",
    "        elif init_method == \"zeros\":\n",
    "            self.weights = np.zeros((input_size, output_size))\n",
    "            self.bias = np.zeros((1, output_size))\n",
    "        elif init_method == \"xavier\":\n",
    "            self.weights = np.random.randn(input_size, output_size) * np.sqrt(\n",
    "                2 / (input_size + output_size)\n",
    "            )\n",
    "            self.bias = np.random.randn(1, output_size) * np.sqrt(\n",
    "                2 / (input_size + output_size)\n",
    "            )\n",
    "        elif init_method == \"he\":\n",
    "            self.weights = np.random.randn(input_size, output_size) * np.sqrt(\n",
    "                2 / input_size\n",
    "            )\n",
    "            self.bias = np.random.randn(1, output_size) * np.sqrt(2 / input_size)\n",
    "\n",
    "    def forward_pass(self, input_data):\n",
    "        self.input = input_data\n",
    "        self.output = np.dot(self.input, self.weights) + self.bias\n",
    "        return self.output\n",
    "\n",
    "    def backpropagation(self, output_error, learning_rate):\n",
    "        input_error = np.dot(output_error, self.weights.T)\n",
    "        weights_error = np.dot(self.input.T, output_error)\n",
    "\n",
    "        self.weights -= learning_rate * weights_error\n",
    "        self.bias -= learning_rate * output_error\n",
    "        return input_error\n",
    "\n",
    "\n",
    "class ActivationComponent(Layer):\n",
    "    def __init__(self, activation, activation_prime):\n",
    "        self.activation = activation\n",
    "        self.activation_prime = activation_prime\n",
    "\n",
    "    def forward_pass(self, input_data):\n",
    "        self.input = input_data\n",
    "        self.output = self.activation(self.input)\n",
    "        return self.output\n",
    "\n",
    "    def backpropagation(self, output_error, learning_rate):\n",
    "        return self.activation_prime(self.input) * output_error\n",
    "\n",
    "\n",
    "class Network:\n",
    "    def __init__(self):\n",
    "        self.layers = []\n",
    "        self.loss = None\n",
    "        self.loss_prime = None\n",
    "        self.convergence = []\n",
    "\n",
    "    def save(self, filename):\n",
    "        with open(filename, \"wb\") as f:\n",
    "            pickle.dump(self, f)\n",
    "\n",
    "    def add(self, layer):\n",
    "        self.layers.append(layer)\n",
    "\n",
    "    def set_loss(self, loss, loss_prime):\n",
    "        self.loss = loss\n",
    "        self.loss_prime = loss_prime\n",
    "\n",
    "    def predict(self, input_data):\n",
    "        samples = len(input_data)\n",
    "        result = []\n",
    "        for i in range(samples):\n",
    "            output = input_data[i]\n",
    "            for layer in self.layers:\n",
    "                output = layer.forward_pass(output)\n",
    "            result.append(output)\n",
    "\n",
    "        return result\n",
    "\n",
    "    def fit(self, x_train, y_train, epochs, learning_rate, printc=False):\n",
    "        samples = len(x_train)\n",
    "        for i in range(epochs):\n",
    "            err = 0\n",
    "            for j in range(samples):\n",
    "                output = x_train[j]\n",
    "                for layer in self.layers:\n",
    "                    output = layer.forward_pass(output)\n",
    "                err += self.loss(y_train[j], output)\n",
    "\n",
    "                error = self.loss_prime(y_train[j], output)\n",
    "                for layer in reversed(self.layers):\n",
    "                    error = layer.backpropagation(error, learning_rate)\n",
    "\n",
    "            err /= samples\n",
    "            self.convergence.append(err)\n",
    "            if printc:\n",
    "                print(f\"Epoch: {i}, Error: {err}\")"
   ]
  },
  {
   "cell_type": "code",
   "execution_count": 4,
   "metadata": {},
   "outputs": [],
   "source": [
    "# load mnist data\n",
    "x_train, y_train = load_mnist(\"mnist\", kind=\"train\")\n",
    "x_test, y_test = load_mnist(\"mnist\", kind=\"t10k\")\n",
    "# convert to one-hot encoding\n",
    "y_train = np.eye(10)[y_train]"
   ]
  },
  {
   "cell_type": "code",
   "execution_count": null,
   "metadata": {},
   "outputs": [],
   "source": [
    "# check the data representation\n",
    "plt.imshow(x_train[0].reshape(28, 28), cmap=\"gray\")\n",
    "plt.show()\n",
    "print(y_train[0])"
   ]
  },
  {
   "cell_type": "code",
   "execution_count": null,
   "metadata": {},
   "outputs": [],
   "source": [
    "mnist_net = Network()\n",
    "mnist_net.add(FullyConnectedLayer(784, 128, \"random\"))\n",
    "mnist_net.add(ActivationComponent(tanh, tanh_prime))\n",
    "mnist_net.add(FullyConnectedLayer(128, 64, \"random\"))\n",
    "mnist_net.add(ActivationComponent(tanh, tanh_prime))\n",
    "mnist_net.add(FullyConnectedLayer(64, 10, \"random\"))\n",
    "mnist_net.add(ActivationComponent(softmax, softmax_prime))\n",
    "mnist_net.set_loss(cross_entropy, cross_entropy_prime)\n",
    "mnist_net.fit(x_train, y_train, epochs=20, learning_rate=0.001)\n",
    "# save the model\n",
    "mnist_net.save(\"mnist_net.pkl\")"
   ]
  },
  {
   "cell_type": "code",
   "execution_count": 28,
   "metadata": {},
   "outputs": [
    {
     "data": {
      "image/png": "[encoded data removed]",
      "text/plain": [
       "<Figure size 432x288 with 1 Axes>"
      ]
     },
     "metadata": {
      "needs_background": "light"
     },
     "output_type": "display_data"
    },
    {
     "name": "stdout",
     "output_type": "stream",
     "text": [
      "Prediction: 6\n",
      "Accuracy: 0.9073\n"
     ]
    }
   ],
   "source": [
    "# get random image from the test set\n",
    "idx = np.random.randint(len(x_test))\n",
    "img = x_test[idx]\n",
    "plt.imshow(img.reshape(28, 28), cmap=\"gray\")\n",
    "plt.show()\n",
    "\n",
    "# show the example prediction\n",
    "prediction = np.argmax(mnist_net.predict(img.reshape(1, 784)))\n",
    "print(f\"Prediction: {prediction}\")\n",
    "\n",
    "# get the accuracy\n",
    "y_pred = [np.argmax(mnist_net.predict(i)) for i in x_test]\n",
    "accuracy = np.sum(\n",
    "    [1 if y_pred[i] == y_test[i] else 0 for i in range(len(y_pred))]\n",
    ") / len(y_pred)\n",
    "print(f\"Accuracy: {accuracy}\")"
   ]
  }
 ],
 "metadata": {
  "kernelspec": {
   "display_name": "Python 3.9.12 ('base')",
   "language": "python",
   "name": "python3"
  },
  "language_info": {
   "codemirror_mode": {
    "name": "ipython",
    "version": 3
   },
   "file_extension": ".py",
   "mimetype": "text/x-python",
   "name": "python",
   "nbconvert_exporter": "python",
   "pygments_lexer": "ipython3",
   "version": "3.9.12"
  },
  "vscode": {
   "interpreter": {
    "hash": "31dca9b9ee8cbd0c32cc854109fa72488c93dc0b9bf0becddd230d6e94c6411a"
   }
  }
 },
 "nbformat": 4,
 "nbformat_minor": 2
}
