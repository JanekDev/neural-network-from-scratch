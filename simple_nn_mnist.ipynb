{
 "cells": [
  {
   "cell_type": "markdown",
   "metadata": {},
   "source": [
    "### Implementing simple neural network from scratch\n",
    "In this notebook I implemented a simple neural network without using advanced ML libraries.\n"
   ]
  },
  {
   "cell_type": "code",
   "execution_count": 1,
   "metadata": {},
   "outputs": [],
   "source": [
    "import pandas as pd\n",
    "import numpy as np\n",
    "import matplotlib.pyplot as plt\n",
    "from common import *\n",
    "import pickle"
   ]
  },
  {
   "cell_type": "code",
   "execution_count": 2,
   "metadata": {},
   "outputs": [],
   "source": [
    "class Layer:\n",
    "    def __init__(self):\n",
    "        self.input = None\n",
    "        self.output = None\n",
    "\n",
    "    def forward_pass(self, input):\n",
    "        raise NotImplementedError\n",
    "\n",
    "    def backpropagation(self, output_error, learning_rate):\n",
    "        raise NotImplementedError\n",
    "\n",
    "\n",
    "class FullyConnectedLayer(Layer):\n",
    "    def __init__(self, input_size, output_size, init_method=\"random\"):\n",
    "        if init_method == \"random\":\n",
    "            self.weights = np.random.rand(input_size, output_size) - 0.5\n",
    "            self.bias = np.random.rand(1, output_size) - 0.5\n",
    "        elif init_method == \"zeros\":\n",
    "            self.weights = np.zeros((input_size, output_size))\n",
    "            self.bias = np.zeros((1, output_size))\n",
    "        elif init_method == \"xavier\":\n",
    "            self.weights = np.random.randn(input_size, output_size) * np.sqrt(\n",
    "                2 / (input_size + output_size)\n",
    "            )\n",
    "            self.bias = np.random.randn(1, output_size) * np.sqrt(\n",
    "                2 / (input_size + output_size)\n",
    "            )\n",
    "        elif init_method == \"he\":\n",
    "            self.weights = np.random.randn(input_size, output_size) * np.sqrt(\n",
    "                2 / input_size\n",
    "            )\n",
    "            self.bias = np.random.randn(1, output_size) * np.sqrt(2 / input_size)\n",
    "\n",
    "    def forward_pass(self, input_data):\n",
    "        self.input = input_data\n",
    "        self.output = np.dot(self.input, self.weights) + self.bias\n",
    "        return self.output\n",
    "\n",
    "    def backpropagation(self, output_error, learning_rate):\n",
    "        input_error = np.dot(output_error, self.weights.T)\n",
    "        weights_error = np.dot(self.input.T, output_error)\n",
    "\n",
    "        self.weights -= learning_rate * weights_error\n",
    "        self.bias -= learning_rate * output_error\n",
    "        return input_error\n",
    "\n",
    "\n",
    "class ActivationComponent(Layer):\n",
    "    def __init__(self, activation, activation_prime):\n",
    "        self.activation = activation\n",
    "        self.activation_prime = activation_prime\n",
    "\n",
    "    def forward_pass(self, input_data):\n",
    "        self.input = input_data\n",
    "        self.output = self.activation(self.input)\n",
    "        return self.output\n",
    "\n",
    "    def backpropagation(self, output_error, learning_rate):\n",
    "        return self.activation_prime(self.input) * output_error\n",
    "\n",
    "\n",
    "class Network:\n",
    "    def __init__(self):\n",
    "        self.layers = []\n",
    "        self.loss = None\n",
    "        self.loss_prime = None\n",
    "        self.convergence = []\n",
    "\n",
    "    def save(self, filename):\n",
    "        with open(filename, \"wb\") as f:\n",
    "            pickle.dump(self, f)\n",
    "\n",
    "    def add(self, layer):\n",
    "        self.layers.append(layer)\n",
    "\n",
    "    def set_loss(self, loss, loss_prime):\n",
    "        self.loss = loss\n",
    "        self.loss_prime = loss_prime\n",
    "\n",
    "    def predict(self, input_data):\n",
    "        samples = len(input_data)\n",
    "        result = []\n",
    "        for i in range(samples):\n",
    "            output = input_data[i]\n",
    "            for layer in self.layers:\n",
    "                output = layer.forward_pass(output)\n",
    "            result.append(output)\n",
    "\n",
    "        return result\n",
    "\n",
    "    def fit(self, x_train, y_train, epochs, learning_rate, printc=False):\n",
    "        samples = len(x_train)\n",
    "        for i in range(epochs):\n",
    "            err = 0\n",
    "            for j in range(samples):\n",
    "                output = x_train[j]\n",
    "                for layer in self.layers:\n",
    "                    output = layer.forward_pass(output)\n",
    "                err += self.loss(y_train[j], output)\n",
    "\n",
    "                error = self.loss_prime(y_train[j], output)\n",
    "                for layer in reversed(self.layers):\n",
    "                    error = layer.backpropagation(error, learning_rate)\n",
    "\n",
    "            err /= samples\n",
    "            self.convergence.append(err)\n",
    "            if printc:\n",
    "                print(f\"Epoch: {i}, Error: {err}\")"
   ]
  },
  {
   "cell_type": "code",
   "execution_count": 3,
   "metadata": {},
   "outputs": [],
   "source": [
    "# load mnist data\n",
    "x_train, y_train = load_mnist(\"mnist\", kind=\"train\")\n",
    "x_test, y_test = load_mnist(\"mnist\", kind=\"t10k\")\n",
    "# convert to one-hot encoding\n",
    "y_train = np.eye(10)[y_train]"
   ]
  },
  {
   "cell_type": "code",
   "execution_count": 4,
   "metadata": {},
   "outputs": [
    {
     "data": {
      "image/png": "[encoded data removed]",
      "text/plain": [
       "<Figure size 432x288 with 1 Axes>"
      ]
     },
     "metadata": {
      "needs_background": "light"
     },
     "output_type": "display_data"
    },
    {
     "name": "stdout",
     "output_type": "stream",
     "text": [
      "7\n"
     ]
    }
   ],
   "source": [
    "# check the data representation\n",
    "plt.imshow(x_test[0].reshape(28, 28), cmap=\"gray\")\n",
    "plt.show()\n",
    "print(y_test[0])"
   ]
  },
  {
   "cell_type": "code",
   "execution_count": 5,
   "metadata": {},
   "outputs": [
    {
     "name": "stdout",
     "output_type": "stream",
     "text": [
      "Epoch: 0, Error: 1.9091989224533634\n",
      "Epoch: 1, Error: 0.9398070099736155\n",
      "Epoch: 2, Error: 0.7435345002747186\n",
      "Epoch: 3, Error: 0.678273457210954\n",
      "Epoch: 4, Error: 0.6117843899796206\n",
      "Epoch: 5, Error: 0.5598986517253574\n",
      "Epoch: 6, Error: 0.5505197994902793\n",
      "Epoch: 7, Error: 0.5336092715380848\n",
      "Epoch: 8, Error: 0.516330176954887\n",
      "Epoch: 9, Error: 0.498659458325204\n",
      "Epoch: 10, Error: 0.4762377226341977\n",
      "Epoch: 11, Error: 0.4512029133349869\n",
      "Epoch: 12, Error: 0.45171628042026096\n",
      "Epoch: 13, Error: 0.44512589928814067\n",
      "Epoch: 14, Error: 0.4334124066236093\n",
      "Epoch: 15, Error: 0.4131579633368903\n",
      "Epoch: 16, Error: 0.4099443140201207\n",
      "Epoch: 17, Error: 0.4116178798715043\n",
      "Epoch: 18, Error: 0.4025255992234996\n",
      "Epoch: 19, Error: 0.3903867824227322\n",
      "Epoch: 20, Error: 0.39004103275471264\n",
      "Epoch: 21, Error: 0.38332165786149597\n",
      "Epoch: 22, Error: 0.37660203588414426\n",
      "Epoch: 23, Error: 0.3634461581934903\n",
      "Epoch: 24, Error: 0.3716966078125532\n",
      "Epoch: 25, Error: 0.36653443314139067\n",
      "Epoch: 26, Error: 0.355822704590342\n",
      "Epoch: 27, Error: 0.3580018843234681\n",
      "Epoch: 28, Error: 0.35350336157516055\n",
      "Epoch: 29, Error: 0.34687338340272084\n",
      "Epoch: 30, Error: 0.3399864374344876\n",
      "Epoch: 31, Error: 0.34287182252583936\n",
      "Epoch: 32, Error: 0.33991015598430224\n",
      "Epoch: 33, Error: 0.32978288231355873\n",
      "Epoch: 34, Error: 0.3316673671421367\n",
      "Epoch: 35, Error: 0.33009849578806993\n",
      "Epoch: 36, Error: 0.32525474698384754\n",
      "Epoch: 37, Error: 0.32449571085797907\n",
      "Epoch: 38, Error: 0.3262683695451041\n",
      "Epoch: 39, Error: 0.3175430780105508\n",
      "Epoch: 40, Error: 0.3190428005903377\n",
      "Epoch: 41, Error: 0.3120759677344796\n",
      "Epoch: 42, Error: 0.308193716954926\n",
      "Epoch: 43, Error: 0.30275147146067816\n",
      "Epoch: 44, Error: 0.2981179832111392\n",
      "Epoch: 45, Error: 0.3034741482526543\n",
      "Epoch: 46, Error: 0.31054699071146075\n",
      "Epoch: 47, Error: 0.3034270581502732\n",
      "Epoch: 48, Error: 0.3002230894130257\n",
      "Epoch: 49, Error: 0.29670359325021584\n"
     ]
    }
   ],
   "source": [
    "mnist_net = Network()\n",
    "mnist_net.add(FullyConnectedLayer(784, 128, \"random\"))\n",
    "mnist_net.add(ActivationComponent(tanh, tanh_prime))\n",
    "mnist_net.add(FullyConnectedLayer(128, 64, \"random\"))\n",
    "mnist_net.add(ActivationComponent(tanh, tanh_prime))\n",
    "mnist_net.add(FullyConnectedLayer(64, 10, \"random\"))\n",
    "mnist_net.add(ActivationComponent(softmax, softmax_prime))\n",
    "mnist_net.set_loss(cross_entropy, cross_entropy_prime)\n",
    "mnist_net.fit(x_train, y_train, epochs=50, learning_rate=0.001, printc=True)\n",
    "# save the model\n",
    "mnist_net.save(\"mnist_net.pkl\")"
   ]
  },
  {
   "cell_type": "code",
   "execution_count": 6,
   "metadata": {},
   "outputs": [
    {
     "data": {
      "image/png": "[encoded data removed]",
      "text/plain": [
       "<Figure size 432x288 with 1 Axes>"
      ]
     },
     "metadata": {
      "needs_background": "light"
     },
     "output_type": "display_data"
    },
    {
     "name": "stdout",
     "output_type": "stream",
     "text": [
      "Prediction: 8\n",
      "Accuracy: 0.9107\n"
     ]
    }
   ],
   "source": [
    "# get random image from the test set\n",
    "idx = np.random.randint(len(x_test))\n",
    "img = x_test[idx]\n",
    "plt.imshow(img.reshape(28, 28), cmap=\"gray\")\n",
    "plt.show()\n",
    "\n",
    "# show the example prediction\n",
    "prediction = np.argmax(mnist_net.predict(img.reshape(1, 784)))\n",
    "print(f\"Prediction: {prediction}\")\n",
    "\n",
    "# get the accuracy\n",
    "y_pred = [np.argmax(mnist_net.predict(i)) for i in x_test]\n",
    "accuracy = np.sum(\n",
    "    [1 if y_pred[i] == y_test[i] else 0 for i in range(len(y_pred))]\n",
    ") / len(y_pred)\n",
    "print(f\"Accuracy: {accuracy}\")"
   ]
  }
 ],
 "metadata": {
  "kernelspec": {
   "display_name": "Python 3.9.7 ('base')",
   "language": "python",
   "name": "python3"
  },
  "language_info": {
   "codemirror_mode": {
    "name": "ipython",
    "version": 3
   },
   "file_extension": ".py",
   "mimetype": "text/x-python",
   "name": "python",
   "nbconvert_exporter": "python",
   "pygments_lexer": "ipython3",
   "version": "3.9.7"
  },
  "vscode": {
   "interpreter": {
    "hash": "79be5273dd2a4b10d2c1f0e02d55929a76c8c0f215cdd8360fa7ff2fae9a0653"
   }
  }
 },
 "nbformat": 4,
 "nbformat_minor": 2
}
