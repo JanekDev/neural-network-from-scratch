{
 "cells": [
  {
   "cell_type": "markdown",
   "metadata": {},
   "source": [
    "### Implementing simple neural network from scratch\n",
    "In this notebook I implemented a simple neural network without using advanced ML libraries.\n"
   ]
  },
  {
   "cell_type": "code",
   "execution_count": null,
   "metadata": {},
   "outputs": [],
   "source": [
    "import pandas as pd\n",
    "import numpy as np\n",
    "import matplotlib.pyplot as plt\n",
    "from common import *"
   ]
  },
  {
   "cell_type": "markdown",
   "metadata": {},
   "source": [
    "First we want to get the dataset of our choice - one of the basic ones is the Iris dataset - a Hello World of machine learning <br>\n",
    "To simplify data presentation for different subplots, I mapped the colors to specific species:\n",
    "- Iris-setosa : red\n",
    "- Iris-versicolor: green\n",
    "- Iris-virginica: blue"
   ]
  },
  {
   "cell_type": "code",
   "execution_count": null,
   "metadata": {},
   "outputs": [],
   "source": [
    "#get iris\n",
    "iris = pd.read_csv('iris.csv')\n",
    "plot_iris_data(iris)"
   ]
  },
  {
   "cell_type": "markdown",
   "metadata": {},
   "source": [
    "Next step is preprocessing the data."
   ]
  },
  {
   "cell_type": "code",
   "execution_count": null,
   "metadata": {},
   "outputs": [],
   "source": [
    "# split data into training and testing (standard 80/20 split)\n",
    "train_data = iris[:int(0.8*len(iris))]\n",
    "test_data = iris[int(0.8*len(iris)):]\n",
    "# change the target values to 0,1,2\n",
    "train_data['target'] = train_data['Species'].map({'Iris-setosa': 0, 'Iris-versicolor': 1, 'Iris-virginica': 2})\n",
    "test_data['target'] = test_data['Species'].map({'Iris-setosa': 0, 'Iris-versicolor': 1, 'Iris-virginica': 2})\n",
    "# remove the target column from the data\n",
    "train_data = train_data.drop('Species', axis=1)\n",
    "test_data = test_data.drop('Species', axis=1)"
   ]
  }
 ],
 "metadata": {
  "interpreter": {
   "hash": "79be5273dd2a4b10d2c1f0e02d55929a76c8c0f215cdd8360fa7ff2fae9a0653"
  },
  "kernelspec": {
   "display_name": "Python 3.9.7 ('base')",
   "language": "python",
   "name": "python3"
  },
  "language_info": {
   "codemirror_mode": {
    "name": "ipython",
    "version": 3
   },
   "file_extension": ".py",
   "mimetype": "text/x-python",
   "name": "python",
   "nbconvert_exporter": "python",
   "pygments_lexer": "ipython3",
   "version": "3.9.7"
  },
  "orig_nbformat": 4
 },
 "nbformat": 4,
 "nbformat_minor": 2
}
